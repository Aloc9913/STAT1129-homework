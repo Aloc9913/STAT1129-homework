{
 "cells": [
  {
   "cell_type": "code",
   "execution_count": 1,
   "id": "849e37c1",
   "metadata": {},
   "outputs": [
    {
     "name": "stdout",
     "output_type": "stream",
     "text": [
      "Andy , 88 \n",
      "Amy , 66 \n",
      "James , 90 \n",
      "Jules , 55 \n",
      "Arthur , 77 \n"
     ]
    }
   ],
   "source": [
    "name_marks = {\"Andy\":88, \"Amy\":66, \"James\": 90, \"Jules\":55, \"Arthur\": 77}\n",
    "for name, marks in name_marks.items():\n",
    "    print(f\"{name} , {marks} \")"
   ]
  },
  {
   "cell_type": "code",
   "execution_count": 2,
   "id": "c6b23340",
   "metadata": {},
   "outputs": [],
   "source": [
    "import numpy as np"
   ]
  },
  {
   "cell_type": "code",
   "execution_count": 3,
   "id": "ab51621f",
   "metadata": {},
   "outputs": [],
   "source": [
    "marks = np.array([88, 66, 90, 55, 77])"
   ]
  },
  {
   "cell_type": "code",
   "execution_count": 4,
   "id": "4f49ffaf",
   "metadata": {},
   "outputs": [
    {
     "data": {
      "text/plain": [
       "75.2"
      ]
     },
     "execution_count": 4,
     "metadata": {},
     "output_type": "execute_result"
    }
   ],
   "source": [
    "marks.mean()"
   ]
  },
  {
   "cell_type": "code",
   "execution_count": 6,
   "id": "a8dfe776",
   "metadata": {},
   "outputs": [
    {
     "name": "stdout",
     "output_type": "stream",
     "text": [
      "2\n",
      "4\n"
     ]
    }
   ],
   "source": [
    "n = 2\n",
    "print(n)\n",
    "while True:\n",
    "    n = n**2\n",
    "    \n",
    "    if n > 8:\n",
    "        break \n",
    "    print(n)"
   ]
  },
  {
   "cell_type": "code",
   "execution_count": 9,
   "id": "9650f208",
   "metadata": {},
   "outputs": [
    {
     "name": "stdout",
     "output_type": "stream",
     "text": [
      "1\n",
      "2\n",
      "3\n",
      "4\n",
      "5\n",
      "6\n",
      "7\n",
      "8\n",
      "9\n",
      "10\n",
      "11\n",
      "12\n",
      "13\n",
      "14\n",
      "15\n"
     ]
    }
   ],
   "source": [
    "h = 1\n",
    "print(h)\n",
    "while True:\n",
    "    h = h+1\n",
    "    \n",
    "    if h > 15:\n",
    "        break\n",
    "    print(h)"
   ]
  },
  {
   "cell_type": "code",
   "execution_count": 14,
   "id": "04930040",
   "metadata": {},
   "outputs": [],
   "source": [
    "def summation(n):\n",
    "    my_sum = 0\n",
    "    i=0\n",
    "    while i <= n:\n",
    "        my_sum = my_sum + i\n",
    "        print(my_sum)\n",
    "        i+=1\n",
    "    print (my_sum)"
   ]
  },
  {
   "cell_type": "code",
   "execution_count": null,
   "id": "f37a3f01",
   "metadata": {},
   "outputs": [],
   "source": [
    "def summation(num): \n",
    "    sumX = 0\n",
    "    for i in range(1, num + 1):\n",
    "        sumX = sumX + i\n",
    "    return sumX\n",
    "\n",
    "summation(3)"
   ]
  },
  {
   "cell_type": "code",
   "execution_count": null,
   "id": "9b573d61",
   "metadata": {},
   "outputs": [],
   "source": [
    "np.arange(101)"
   ]
  },
  {
   "cell_type": "code",
   "execution_count": null,
   "id": "6ad8ef69",
   "metadata": {},
   "outputs": [],
   "source": [
    "numberss = np.arange(101)"
   ]
  },
  {
   "cell_type": "code",
   "execution_count": null,
   "id": "ad6e68a1",
   "metadata": {},
   "outputs": [],
   "source": [
    "numberss.sum()"
   ]
  },
  {
   "cell_type": "code",
   "execution_count": null,
   "id": "88fa823a",
   "metadata": {},
   "outputs": [],
   "source": [
    "numberss.mean()"
   ]
  },
  {
   "cell_type": "code",
   "execution_count": null,
   "id": "5d85d6a6",
   "metadata": {},
   "outputs": [],
   "source": [
    "numberss.std()"
   ]
  },
  {
   "cell_type": "code",
   "execution_count": null,
   "id": "8c045819",
   "metadata": {},
   "outputs": [],
   "source": [
    "def max1(v1, v2, v3, v4):\n",
    "    max = v1\n",
    "    if v2 > max: \n",
    "        max = v2\n",
    "    if v3 > max:\n",
    "        max = v3\n",
    "    if v4 > max:\n",
    "        max = v4\n",
    "    return max\n"
   ]
  },
  {
   "cell_type": "code",
   "execution_count": null,
   "id": "138fd533",
   "metadata": {},
   "outputs": [],
   "source": [
    "list1 = \"Asher\"\n",
    "list2 = \"is\"\n",
    "list3 = \"writing\"\n",
    "list5 = (list1, list2, list3)\n",
    "print (list5)"
   ]
  },
  {
   "cell_type": "code",
   "execution_count": null,
   "id": "0360be67",
   "metadata": {},
   "outputs": [],
   "source": []
  }
 ],
 "metadata": {
  "kernelspec": {
   "display_name": "Python 3 (ipykernel)",
   "language": "python",
   "name": "python3"
  },
  "language_info": {
   "codemirror_mode": {
    "name": "ipython",
    "version": 3
   },
   "file_extension": ".py",
   "mimetype": "text/x-python",
   "name": "python",
   "nbconvert_exporter": "python",
   "pygments_lexer": "ipython3",
   "version": "3.9.13"
  }
 },
 "nbformat": 4,
 "nbformat_minor": 5
}
