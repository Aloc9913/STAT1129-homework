{
 "cells": [
  {
   "cell_type": "code",
   "execution_count": 24,
   "id": "2ee8ba7c",
   "metadata": {},
   "outputs": [
    {
     "data": {
      "text/plain": [
       "[30, 35, 40, 45, 50, 55, 60]"
      ]
     },
     "execution_count": 24,
     "metadata": {},
     "output_type": "execute_result"
    }
   ],
   "source": [
    "list(range(30,65,5))"
   ]
  },
  {
   "cell_type": "code",
   "execution_count": 25,
   "id": "959fe22f",
   "metadata": {},
   "outputs": [
    {
     "name": "stdout",
     "output_type": "stream",
     "text": [
      "[60, 55, 50, 45, 40, 35, 30]\n"
     ]
    }
   ],
   "source": [
    "a = list(range(30,65,5))\n",
    "a.reverse()\n",
    "print(a)"
   ]
  },
  {
   "cell_type": "code",
   "execution_count": 37,
   "id": "ecb37d71",
   "metadata": {},
   "outputs": [],
   "source": [
    "a.insert(0,65)"
   ]
  },
  {
   "cell_type": "code",
   "execution_count": 29,
   "id": "d95da3cc",
   "metadata": {},
   "outputs": [
    {
     "name": "stdout",
     "output_type": "stream",
     "text": [
      "['65', 60, '65', 55, 50, 45, 40, 35, 30]\n"
     ]
    }
   ],
   "source": [
    "print(a)"
   ]
  },
  {
   "cell_type": "code",
   "execution_count": 39,
   "id": "5fcf8852",
   "metadata": {},
   "outputs": [],
   "source": [
    "del a[1]"
   ]
  },
  {
   "cell_type": "code",
   "execution_count": 36,
   "id": "69f8beb0",
   "metadata": {},
   "outputs": [
    {
     "name": "stdout",
     "output_type": "stream",
     "text": [
      "['65', 60, 55, 50, 45, 40, 35, 30]\n"
     ]
    }
   ],
   "source": [
    "print(a)"
   ]
  },
  {
   "cell_type": "code",
   "execution_count": 40,
   "id": "da4288a2",
   "metadata": {},
   "outputs": [
    {
     "name": "stdout",
     "output_type": "stream",
     "text": [
      "[65, 60, 55, 50, 45, 40, 35, 30]\n"
     ]
    }
   ],
   "source": [
    "print(a)"
   ]
  },
  {
   "cell_type": "code",
   "execution_count": 64,
   "id": "54016434",
   "metadata": {},
   "outputs": [
    {
     "name": "stdout",
     "output_type": "stream",
     "text": [
      "[0, 1, 2, 3, 4, 5, 6, 7, 8, 9, 10, 11, 12, 13, 14, 15, 16, 17, 18, 19, 20]\n"
     ]
    }
   ],
   "source": [
    "samplelist = []\n",
    "samplelist = [i for i in range(21)]\n",
    "print(samplelist)"
   ]
  },
  {
   "cell_type": "code",
   "execution_count": 65,
   "id": "ec52d9c0",
   "metadata": {},
   "outputs": [],
   "source": [
    "del samplelist[0]"
   ]
  },
  {
   "cell_type": "code",
   "execution_count": 66,
   "id": "c49fb83c",
   "metadata": {},
   "outputs": [
    {
     "name": "stdout",
     "output_type": "stream",
     "text": [
      "[1, 2, 3, 4, 5, 6, 7, 8, 9, 10, 11, 12, 13, 14, 15, 16, 17, 18, 19, 20]\n"
     ]
    }
   ],
   "source": [
    "print(samplelist)"
   ]
  },
  {
   "cell_type": "code",
   "execution_count": 68,
   "id": "6c5767f0",
   "metadata": {},
   "outputs": [
    {
     "data": {
      "text/plain": [
       "1"
      ]
     },
     "execution_count": 68,
     "metadata": {},
     "output_type": "execute_result"
    }
   ],
   "source": [
    "min(samplelist)"
   ]
  },
  {
   "cell_type": "code",
   "execution_count": 69,
   "id": "d7b20e62",
   "metadata": {},
   "outputs": [
    {
     "data": {
      "text/plain": [
       "20"
      ]
     },
     "execution_count": 69,
     "metadata": {},
     "output_type": "execute_result"
    }
   ],
   "source": [
    "max(samplelist)"
   ]
  },
  {
   "cell_type": "code",
   "execution_count": 70,
   "id": "ccd55fee",
   "metadata": {},
   "outputs": [
    {
     "data": {
      "text/plain": [
       "20"
      ]
     },
     "execution_count": 70,
     "metadata": {},
     "output_type": "execute_result"
    }
   ],
   "source": [
    "len(samplelist)"
   ]
  },
  {
   "cell_type": "code",
   "execution_count": 74,
   "id": "63aa4c13",
   "metadata": {},
   "outputs": [
    {
     "name": "stdout",
     "output_type": "stream",
     "text": [
      "210\n"
     ]
    }
   ],
   "source": [
    "total = 0 \n",
    "samplelist = [1, 2, 3, 4, 5, 6, 7, 8, 9, 10, 11, 12, 13, 14, 15, 16, 17, 18, 19, 20]\n",
    "for ele in range(0,len(samplelist)):\n",
    "    total = total + samplelist[ele]\n",
    "    \n",
    "print(total)"
   ]
  },
  {
   "cell_type": "code",
   "execution_count": 84,
   "id": "3641397a",
   "metadata": {},
   "outputs": [
    {
     "name": "stdout",
     "output_type": "stream",
     "text": [
      "When Snowy\n",
      "let us ski\n"
     ]
    }
   ],
   "source": [
    "Weather=\"Snowy\" \n",
    "\n",
    "print(\"When\",Weather,)\n",
    "\n",
    "if Weather==\"Sunny\":\n",
    "    print(\"let us play\")\n",
    "elif Weather == \"Rainy\":\n",
    "    print(\"let us watch TV\")\n",
    "elif Weather == \"Snowy\":\n",
    "    print(\"let us ski\")\n",
    "else:\n",
    "    print(\"let us walk\")\n",
    "    \n"
   ]
  },
  {
   "cell_type": "code",
   "execution_count": null,
   "id": "44cbe26f",
   "metadata": {},
   "outputs": [],
   "source": []
  }
 ],
 "metadata": {
  "kernelspec": {
   "display_name": "Python 3 (ipykernel)",
   "language": "python",
   "name": "python3"
  },
  "language_info": {
   "codemirror_mode": {
    "name": "ipython",
    "version": 3
   },
   "file_extension": ".py",
   "mimetype": "text/x-python",
   "name": "python",
   "nbconvert_exporter": "python",
   "pygments_lexer": "ipython3",
   "version": "3.9.13"
  }
 },
 "nbformat": 4,
 "nbformat_minor": 5
}
